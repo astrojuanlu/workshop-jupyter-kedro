{
 "cells": [
  {
   "cell_type": "markdown",
   "id": "7a4b262e-d776-44ac-8540-44a7b128842e",
   "metadata": {},
   "source": [
    "# Data science"
   ]
  },
  {
   "cell_type": "code",
   "execution_count": null,
   "id": "2cdeb118",
   "metadata": {},
   "outputs": [],
   "source": [
    "%load_ext kedro.ipython"
   ]
  },
  {
   "cell_type": "code",
   "execution_count": null,
   "id": "1bb85802",
   "metadata": {},
   "outputs": [],
   "source": [
    "import seaborn.objects as so\n",
    "import seaborn as sns\n",
    "import matplotlib as mpl\n",
    "from wordcloud import WordCloud, STOPWORDS\n",
    "import polars as pl\n",
    "\n",
    "sns.set()"
   ]
  },
  {
   "cell_type": "code",
   "execution_count": null,
   "id": "a301244f",
   "metadata": {},
   "outputs": [],
   "source": [
    "df = catalog.load(\"openrepair-0_3\")\n",
    "df.head()"
   ]
  },
  {
   "cell_type": "code",
   "execution_count": null,
   "id": "26a61a5b-37bd-4469-8c61-1c9e604b08b8",
   "metadata": {},
   "outputs": [],
   "source": [
    "len(df)"
   ]
  },
  {
   "cell_type": "code",
   "execution_count": null,
   "id": "01aea2eb-9392-4cd0-b474-73ab6e185d18",
   "metadata": {},
   "outputs": [],
   "source": [
    "df[\"country\"].value_counts().sort(\"counts\", descending=True).head()"
   ]
  },
  {
   "cell_type": "code",
   "execution_count": null,
   "id": "594a5477-fb3a-42e4-b573-2b572d4079c0",
   "metadata": {},
   "outputs": [],
   "source": [
    "df[\"product_category\"].value_counts().sort(by=\"counts\", descending=True).head(10)"
   ]
  },
  {
   "cell_type": "code",
   "execution_count": null,
   "id": "3c6c741d-1bef-4f53-88b0-1832e29b53a5",
   "metadata": {},
   "outputs": [],
   "source": [
    "df[\"repair_barrier_if_end_of_life\"].value_counts()"
   ]
  },
  {
   "cell_type": "code",
   "execution_count": null,
   "id": "81cad994-5629-4dc5-851a-2809029bbcb3",
   "metadata": {},
   "outputs": [],
   "source": [
    "repairs_by_year = (\n",
    "    df\n",
    "    .sort(\"event_date\")\n",
    "    .group_by_dynamic(\"event_date\", every=\"1y\", by=\"repair_status\")\n",
    "    .agg(pl.count())\n",
    "    .sort(\"event_date\")\n",
    ")\n",
    "repairs_by_year.head()"
   ]
  },
  {
   "cell_type": "code",
   "execution_count": null,
   "id": "e779f713",
   "metadata": {},
   "outputs": [],
   "source": [
    "import warnings\n",
    "warnings.simplefilter(\"ignore\")"
   ]
  },
  {
   "cell_type": "code",
   "execution_count": null,
   "id": "98ae412d-a164-45a2-a52a-920e27f55a6d",
   "metadata": {},
   "outputs": [],
   "source": [
    "(\n",
    "    so.Plot(\n",
    "        data=repairs_by_year.with_columns(\n",
    "            pl.col(\"event_date\").dt.year().alias(\"year\")\n",
    "        ).to_pandas(),\n",
    "        x=\"year\",\n",
    "        y=\"count\",\n",
    "        color=\"repair_status\",\n",
    "    ).add(so.Bar(), so.Stack())\n",
    ")"
   ]
  },
  {
   "cell_type": "code",
   "execution_count": null,
   "id": "1b28816b-0ff5-426a-a74d-4549fa4d32be",
   "metadata": {},
   "outputs": [],
   "source": [
    "barriers_by_year = (\n",
    "    df\n",
    "    .sort(\"event_date\")\n",
    "    .groupby_dynamic(\n",
    "        \"event_date\",\n",
    "        every=\"1y\",\n",
    "        by=\"repair_barrier_if_end_of_life\",\n",
    "    )\n",
    "    .agg(pl.count())\n",
    "    .select(\n",
    "        pl.col(\"event_date\").dt.year().alias(\"year\"),\n",
    "        pl.col(\"repair_barrier_if_end_of_life\").fill_null(\"Unknown\").alias(\"barrier\"),\n",
    "        pl.col(\"count\"),\n",
    "    )\n",
    "    .sort(\"year\")\n",
    ")\n",
    "barriers_by_year.head()"
   ]
  },
  {
   "cell_type": "code",
   "execution_count": null,
   "id": "f68cf425-4384-477b-aa11-a8bad82e0342",
   "metadata": {},
   "outputs": [],
   "source": [
    "barriers_by_year.pivot(\n",
    "    index=\"year\",\n",
    "    columns=\"barrier\",\n",
    "    values=\"count\",\n",
    "    aggregate_function=\"sum\",\n",
    ")"
   ]
  },
  {
   "cell_type": "code",
   "execution_count": null,
   "id": "54b41a8e-69ca-43d7-a29d-83b3a69c7d45",
   "metadata": {},
   "outputs": [],
   "source": [
    "(\n",
    "    so.Plot(\n",
    "        data=barriers_by_year.filter(pl.col(\"barrier\") != \"Unknown\"),\n",
    "        x=\"year\",\n",
    "        y=\"count\",\n",
    "        color=\"barrier\",\n",
    "    ).add(so.Bar(), so.Stack())\n",
    ")"
   ]
  },
  {
   "cell_type": "code",
   "execution_count": null,
   "id": "72e0702d-5aba-4a50-8826-4378018510e5",
   "metadata": {},
   "outputs": [],
   "source": [
    "(\n",
    "    so.Plot(\n",
    "        data=(\n",
    "            barriers_by_year.with_columns(\n",
    "                pl.col(\"count\").sum().over(\"year\").alias(\"year_totals\"),\n",
    "            )\n",
    "            .with_columns((pl.col(\"count\") / pl.col(\"year_totals\")).alias(\"pct_count\"))\n",
    "            .filter(pl.col(\"barrier\") != \"Unknown\")\n",
    "        ),\n",
    "        x=\"year\",\n",
    "        y=\"pct_count\",\n",
    "        color=\"barrier\",\n",
    "    ).add(so.Bar(), so.Stack())\n",
    ")"
   ]
  },
  {
   "cell_type": "code",
   "execution_count": null,
   "id": "af40df56-9a5c-40e3-9f3d-61bbe9280042",
   "metadata": {},
   "outputs": [],
   "source": [
    "eol = df.filter(pl.col(\"repair_status\") == \"End of life\")\n",
    "eol.head()"
   ]
  },
  {
   "cell_type": "code",
   "execution_count": null,
   "id": "624bb8a6-78f4-438e-a925-1be2758c606c",
   "metadata": {},
   "outputs": [],
   "source": [
    "problems_gbr = list(eol.filter((pl.col(\"country\") == \"GBR\"))[\"problem\"].drop_nulls())\n",
    "problems_gbr[:5]"
   ]
  },
  {
   "cell_type": "code",
   "execution_count": null,
   "id": "5dd2bbe7-a2b3-4880-b76d-07773143c60e",
   "metadata": {},
   "outputs": [],
   "source": [
    "wordcloud = WordCloud(\n",
    "    background_color=\"white\",\n",
    "    stopwords=set(STOPWORDS),\n",
    "    collocation_threshold=1,\n",
    "    colormap=mpl.pyplot.cm.Dark2,\n",
    "    scale=3,\n",
    "    random_state=42,\n",
    ").generate(\" \".join(problems_gbr))\n",
    "\n",
    "fig, ax = mpl.pyplot.subplots(figsize=(10, 8))\n",
    "ax.imshow(wordcloud)\n",
    "ax.axis(\"off\")"
   ]
  }
 ],
 "metadata": {
  "kernelspec": {
   "display_name": "Python 3 (ipykernel)",
   "language": "python",
   "name": "python3"
  },
  "language_info": {
   "codemirror_mode": {
    "name": "ipython",
    "version": 3
   },
   "file_extension": ".py",
   "mimetype": "text/x-python",
   "name": "python",
   "nbconvert_exporter": "python",
   "pygments_lexer": "ipython3",
   "version": "3.11.5"
  }
 },
 "nbformat": 4,
 "nbformat_minor": 5
}
