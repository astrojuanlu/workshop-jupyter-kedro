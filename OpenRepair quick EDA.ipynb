{
 "cells": [
  {
   "attachments": {},
   "cell_type": "markdown",
   "id": "8ccb776b-ff55-4bc0-a960-3f5df8ebbf97",
   "metadata": {},
   "source": [
    "Data from https://openrepair.org/open-data/downloads/\n",
    "\n",
    "(Source: https://openrepair.org/news/open-repair-alliance-dataset-increases-to-81000-records-of-community-repair/)"
   ]
  },
  {
   "cell_type": "code",
   "execution_count": null,
   "id": "06366f85-2df0-4ee8-931a-f8d03f3161dc",
   "metadata": {
    "tags": []
   },
   "outputs": [],
   "source": [
    "import polars as pl\n",
    "\n",
    "pl.Config.set_fmt_str_lengths(100)"
   ]
  },
  {
   "cell_type": "code",
   "execution_count": null,
   "id": "9c7c4986-264c-480a-ad6d-3b6f8a88c254",
   "metadata": {},
   "outputs": [],
   "source": [
    "from kedro.config import OmegaConfigLoader\n",
    "from kedro.io import DataCatalog\n",
    "\n",
    "conf_loader = OmegaConfigLoader(\n",
    "    \".\", base_env=\".\", default_run_env=\".\", custom_resolvers={\n",
    "        \"pl\": lambda obj: getattr(pl, obj),\n",
    "    }\n",
    ")\n",
    "conf_catalog = conf_loader.get(\"catalog\")\n",
    "catalog = DataCatalog.from_config(conf_catalog)"
   ]
  },
  {
   "cell_type": "code",
   "execution_count": null,
   "id": "29596b7b",
   "metadata": {},
   "outputs": [],
   "source": [
    "categories = catalog.load(\"openrepair-0_3-categories\")\n",
    "categories.head()"
   ]
  },
  {
   "cell_type": "code",
   "execution_count": null,
   "id": "a20de986-5fe1-424f-b420-4ea92fabd9b5",
   "metadata": {},
   "outputs": [],
   "source": [
    "df = catalog.load(\"openrepair-0_3-events-raw\")\n",
    "df.head()"
   ]
  },
  {
   "cell_type": "code",
   "execution_count": null,
   "id": "8fa36b24",
   "metadata": {},
   "outputs": [],
   "source": [
    "len(df)"
   ]
  },
  {
   "cell_type": "code",
   "execution_count": null,
   "id": "ce0f51fe",
   "metadata": {},
   "outputs": [],
   "source": [
    "df = df.select(pl.all().exclude(\"product_category\")).join(\n",
    "    categories, on=\"product_category_id\"\n",
    ")\n",
    "df.head()"
   ]
  },
  {
   "cell_type": "code",
   "execution_count": null,
   "id": "69293a3f",
   "metadata": {},
   "outputs": [],
   "source": [
    "len(df)"
   ]
  },
  {
   "cell_type": "code",
   "execution_count": null,
   "id": "806d5f19",
   "metadata": {},
   "outputs": [],
   "source": [
    "df[\"country\"].value_counts().sort(\"counts\", descending=True).head()"
   ]
  },
  {
   "cell_type": "code",
   "execution_count": null,
   "id": "30537441",
   "metadata": {},
   "outputs": [],
   "source": [
    "df[\"product_category\"].value_counts().sort(by=\"counts\", descending=True).head(10)"
   ]
  },
  {
   "attachments": {},
   "cell_type": "markdown",
   "id": "507e57c1",
   "metadata": {},
   "source": [
    "Minor correction needed for repair barrier: one part of [the standard](https://standard.openrepair.org/standard.html) specifies `\"Item too worn out\"`, the other says `\"Product too worn out\"`, but they are the same."
   ]
  },
  {
   "cell_type": "code",
   "execution_count": null,
   "id": "8925a96c",
   "metadata": {},
   "outputs": [],
   "source": [
    "df[\"repair_barrier_if_end_of_life\"].value_counts()"
   ]
  },
  {
   "cell_type": "code",
   "execution_count": null,
   "id": "aff1a32c",
   "metadata": {},
   "outputs": [],
   "source": [
    "df = df.with_columns(\n",
    "    pl.col(\"repair_barrier_if_end_of_life\").map_dict(\n",
    "        {\"Item too worn out\": \"Product too worn out\"},\n",
    "        default=pl.col(\"repair_barrier_if_end_of_life\"),\n",
    "    )\n",
    ")\n",
    "df[\"repair_barrier_if_end_of_life\"].value_counts()"
   ]
  }
 ],
 "metadata": {
  "kernelspec": {
   "display_name": "Python 3 (ipykernel)",
   "language": "python",
   "name": "python3"
  },
  "language_info": {
   "codemirror_mode": {
    "name": "ipython",
    "version": 3
   },
   "file_extension": ".py",
   "mimetype": "text/x-python",
   "name": "python",
   "nbconvert_exporter": "python",
   "pygments_lexer": "ipython3",
   "version": "3.11.5"
  }
 },
 "nbformat": 4,
 "nbformat_minor": 5
}
